{
  "nbformat": 4,
  "nbformat_minor": 0,
  "metadata": {
    "colab": {
      "provenance": []
    },
    "kernelspec": {
      "name": "python3",
      "display_name": "Python 3"
    },
    "language_info": {
      "name": "python"
    }
  },
  "cells": [
    {
      "cell_type": "code",
      "execution_count": null,
      "metadata": {
        "id": "3BLo0_IM35nH",
        "outputId": "14c68c08-f54e-4b6e-939c-af7ca79fcd4b",
        "colab": {
          "base_uri": "https://localhost:8080/"
        }
      },
      "outputs": [
        {
          "output_type": "stream",
          "name": "stdout",
          "text": [
            "Original Dataset:\n",
            "   sepal_length  sepal_width  petal_length  petal_width species\n",
            "0           5.1          3.5           1.4          0.2  setosa\n",
            "1           4.9          3.0           1.4          0.2  setosa\n",
            "2           4.7          3.2           1.3          0.2  setosa\n",
            "3           4.6          3.1           1.5          0.2  setosa\n",
            "4           5.0          3.6           1.4          0.2  setosa\n",
            "5           5.4          3.9           1.7          0.4  setosa\n",
            "6           4.7          3.2           1.3          0.2  setosa\n",
            "\n",
            "Dataset after Removing Duplicates:\n",
            "   sepal_length  sepal_width  petal_length  petal_width species\n",
            "0           5.1          3.5           1.4          0.2  setosa\n",
            "1           4.9          3.0           1.4          0.2  setosa\n",
            "2           4.7          3.2           1.3          0.2  setosa\n",
            "3           4.6          3.1           1.5          0.2  setosa\n",
            "4           5.0          3.6           1.4          0.2  setosa\n",
            "5           5.4          3.9           1.7          0.4  setosa\n",
            "\n",
            "Final Preprocessed Dataset:\n",
            "   sepal_length  sepal_width  petal_length  petal_width  species\n",
            "0      0.570352     0.372572     -0.397360    -0.447214        0\n",
            "1     -0.190117    -1.224166     -0.397360    -0.447214        0\n",
            "2     -0.950586    -0.585471     -1.192079    -0.447214        0\n",
            "3     -1.330821    -0.904819      0.397360    -0.447214        0\n",
            "4      0.190117     0.691920     -0.397360    -0.447214        0\n",
            "5      1.711055     1.649964      1.986799     2.236068        0\n"
          ]
        }
      ],
      "source": [
        "\n",
        "import pandas as pd\n",
        "from sklearn.preprocessing import LabelEncoder, StandardScaler\n",
        "data = {\n",
        "    'sepal_length': [5.1, 4.9, 4.7, 4.6, 5.0, 5.4, 4.7],\n",
        "    'sepal_width': [3.5, 3.0, 3.2, 3.1, 3.6, 3.9, 3.2],\n",
        "    'petal_length': [1.4, 1.4, 1.3, 1.5, 1.4, 1.7, 1.3],\n",
        "    'petal_width': [0.2, 0.2, 0.2, 0.2, 0.2, 0.4, 0.2],\n",
        "    'species': ['setosa', 'setosa', 'setosa', 'setosa', 'setosa', 'setosa', 'setosa']\n",
        "}\n",
        "\n",
        "df = pd.DataFrame(data)\n",
        "print(\"Original Dataset:\")\n",
        "print(df)\n",
        "df = df.drop_duplicates()\n",
        "print(\"\\nDataset after Removing Duplicates:\")\n",
        "print(df)\n",
        "le = LabelEncoder()\n",
        "df['species'] = le.fit_transform(df['species'])\n",
        "scaler = StandardScaler()\n",
        "features = ['sepal_length', 'sepal_width', 'petal_length', 'petal_width']\n",
        "df[features] = scaler.fit_transform(df[features])\n",
        "\n",
        "print(\"\\nFinal Preprocessed Dataset:\")\n",
        "print(df)\n"
      ]
    }
  ]
}